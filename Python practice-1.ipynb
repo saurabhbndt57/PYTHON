{
 "cells": [
  {
   "cell_type": "markdown",
   "id": "87167014-ef14-4928-abe4-b9482f2fff5d",
   "metadata": {},
   "source": [
    "# STRINGS"
   ]
  },
  {
   "cell_type": "code",
   "execution_count": 7,
   "id": "97e270a0-3a1c-4554-aad5-95b3ae018901",
   "metadata": {},
   "outputs": [
    {
     "name": "stdin",
     "output_type": "stream",
     "text": [
      "enter the first number 4\n",
      "enter the second number 5\n"
     ]
    },
    {
     "name": "stdout",
     "output_type": "stream",
     "text": [
      "sum = 9\n"
     ]
    }
   ],
   "source": [
    "a= int(input(\"enter the first number\"))\n",
    "b= int(input(\"enter the second number\"))\n",
    "c=a+b\n",
    "print('sum =' , c)"
   ]
  },
  {
   "cell_type": "code",
   "execution_count": 9,
   "id": "e08f64a7-7f36-4700-a199-7d11f6d6da65",
   "metadata": {},
   "outputs": [
    {
     "name": "stdout",
     "output_type": "stream",
     "text": [
      "Hello World\n"
     ]
    }
   ],
   "source": [
    "message = 'Hello World'\n",
    "print(message)"
   ]
  },
  {
   "cell_type": "code",
   "execution_count": 12,
   "id": "dc0bfee9-0521-4eb6-9f55-b703024f77fb",
   "metadata": {},
   "outputs": [
    {
     "name": "stdout",
     "output_type": "stream",
     "text": [
      "New to Pragramming World\n"
     ]
    }
   ],
   "source": [
    "message_2 = 'New to Pragramming World'\n",
    "print(message_2)"
   ]
  },
  {
   "cell_type": "code",
   "execution_count": 14,
   "id": "f01a3411-9300-4c68-846f-dbd5ee49ff53",
   "metadata": {},
   "outputs": [
    {
     "name": "stdout",
     "output_type": "stream",
     "text": [
      "This is the string with single quotes\n",
      "This is the string2 with double quotes\n"
     ]
    }
   ],
   "source": [
    "single_quote_string = 'This is the string with single quotes'\n",
    "double_quote_string2 = \"This is the string2 with double quotes\"\n",
    "print(single_quote_string)\n",
    "print(double_quote_string2)"
   ]
  },
  {
   "cell_type": "code",
   "execution_count": 18,
   "id": "59ae1b74-cec1-4117-8c55-60046a690a78",
   "metadata": {},
   "outputs": [
    {
     "name": "stdout",
     "output_type": "stream",
     "text": [
      "I said that this is: \"string within a string\"\n"
     ]
    }
   ],
   "source": [
    "print('I said that this is: \"string within a string\"')"
   ]
  },
  {
   "cell_type": "code",
   "execution_count": 21,
   "id": "e8d44a06-3f71-4cad-be1a-ec84711b06f9",
   "metadata": {},
   "outputs": [
    {
     "name": "stdout",
     "output_type": "stream",
     "text": [
      "I Said That This Is: \"String Within A String\"\n",
      "i said that this is: \"string within a string\"\n",
      "I SAID THAT THIS IS: \"STRING WITHIN A STRING\"\n",
      "\n"
     ]
    }
   ],
   "source": [
    "print('I said that this is: \"string within a string\"'.title()) # makes first letter capital. \n",
    "print('I said that this is: \"string within a string\"'.lower()) # makes everything lowercase.\n",
    "print('I said that this is: \"string within a string\"'.upper()) # makes everything uppercase.\n",
    "print()"
   ]
  },
  {
   "cell_type": "code",
   "execution_count": 25,
   "id": "9821a779-71d8-49ff-8833-35aff19c8450",
   "metadata": {},
   "outputs": [
    {
     "name": "stdin",
     "output_type": "stream",
     "text": [
      "What is your name? =  Saurabh\n"
     ]
    },
    {
     "name": "stdout",
     "output_type": "stream",
     "text": [
      "Saurabh said: \"Everything goes up\"\n"
     ]
    }
   ],
   "source": [
    "name = input('What is your name? = ')\n",
    "print(f'{name} said: \"Everything goes up\"')"
   ]
  },
  {
   "cell_type": "markdown",
   "id": "74e36a77-a545-4fd1-bfa7-a74e5921f8cb",
   "metadata": {},
   "source": [
    "# INTEGERS & FLOATS"
   ]
  },
  {
   "cell_type": "code",
   "execution_count": 29,
   "id": "9b0313fb-e279-4dc6-99f6-eb834b6be735",
   "metadata": {},
   "outputs": [
    {
     "name": "stdin",
     "output_type": "stream",
     "text": [
      "a:  9\n",
      "b:  4\n"
     ]
    },
    {
     "name": "stdout",
     "output_type": "stream",
     "text": [
      "13\n",
      "5\n",
      "36\n",
      "2.25\n",
      "2\n",
      "6561\n"
     ]
    }
   ],
   "source": [
    "a, b = int(input('a: ')), int(input('b: '))\n",
    "print(a+b)  # Addition of two numbers.\n",
    "print(a-b)  # Subtraction of two numbers.\n",
    "print(a*b)  # Multiplication of two numbers.\n",
    "print(a/b)  # Floating value is shown with floor along with ceiling value.\n",
    "print(a//b) # Floating value is eliminated and only the floor value is shown.\n",
    "print(a**b) # It is the 'a' to the power 'b' result.\n"
   ]
  },
  {
   "cell_type": "code",
   "execution_count": 32,
   "id": "9ac1515c-0018-483d-9a7d-6a90e6d59850",
   "metadata": {},
   "outputs": [
    {
     "name": "stdin",
     "output_type": "stream",
     "text": [
      "enter the first number 9\n",
      "enter the second number 4\n"
     ]
    },
    {
     "data": {
      "text/plain": [
       "'94'"
      ]
     },
     "execution_count": 32,
     "metadata": {},
     "output_type": "execute_result"
    }
   ],
   "source": [
    "a= input(\"enter the first number\")\n",
    "b= input(\"enter the second number\")\n",
    "c=a+b\n",
    "c                     # Here the result will be given as the string format."
   ]
  },
  {
   "cell_type": "markdown",
   "id": "49c1553c-ac90-4e50-bc69-8a3aae9e6d4b",
   "metadata": {},
   "source": [
    "# Small project on variables and data types."
   ]
  },
  {
   "cell_type": "code",
   "execution_count": 42,
   "id": "2520d2ec-4f12-415e-8fe9-4a9e0dce2a43",
   "metadata": {},
   "outputs": [
    {
     "name": "stdin",
     "output_type": "stream",
     "text": [
      "Enter the name of stadium:  SMS\n"
     ]
    },
    {
     "name": "stdout",
     "output_type": "stream",
     "text": [
      "SMS\n"
     ]
    },
    {
     "name": "stdin",
     "output_type": "stream",
     "text": [
      "Enter the length of field in meters: 50\n",
      "Enter the width of field in meters: 40\n"
     ]
    },
    {
     "name": "stdout",
     "output_type": "stream",
     "text": [
      "The area of SMS and 2000.0 m.sq\n"
     ]
    }
   ],
   "source": [
    "Stadium_name = input(\"Enter the name of stadium: \")\n",
    "print(Stadium_name.upper())\n",
    "l = float(input('Enter the length of field in meters:'))\n",
    "b = float(input('Enter the width of field in meters:'))\n",
    "Area= l*b\n",
    "print(f'The area of {Stadium_name} and {Area} m.sq')"
   ]
  },
  {
   "cell_type": "code",
   "execution_count": null,
   "id": "36fee1d0-728a-4c8d-bc9b-809850b9b376",
   "metadata": {},
   "outputs": [],
   "source": []
  }
 ],
 "metadata": {
  "kernelspec": {
   "display_name": "Python 3 (ipykernel)",
   "language": "python",
   "name": "python3"
  },
  "language_info": {
   "codemirror_mode": {
    "name": "ipython",
    "version": 3
   },
   "file_extension": ".py",
   "mimetype": "text/x-python",
   "name": "python",
   "nbconvert_exporter": "python",
   "pygments_lexer": "ipython3",
   "version": "3.13.0"
  }
 },
 "nbformat": 4,
 "nbformat_minor": 5
}
